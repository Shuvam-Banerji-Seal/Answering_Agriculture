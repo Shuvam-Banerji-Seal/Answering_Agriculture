{
 "cells": [
  {
   "cell_type": "code",
   "execution_count": null,
   "id": "59a3237b",
   "metadata": {},
   "outputs": [
    {
     "ename": "",
     "evalue": "",
     "output_type": "error",
     "traceback": [
      "\u001b[1;31mRunning cells with 'Python 3.11.13' requires the ipykernel package.\n",
      "\u001b[1;31mInstall 'ipykernel' into the Python environment. \n",
      "\u001b[1;31mCommand: '/home/alok/.local/bin/python3.11 -m pip install ipykernel -U --user --force-reinstall'"
     ]
    }
   ],
   "source": [
    "from transformers import AutoTokenizer, AutoModelForSeq2SeqLM\n",
    "\n",
    "# 1️⃣ Choose the correct model: \n",
    "# \"indictrans2-en\" = Indian Language -> English\n",
    "# \"indictrans2-indic\" = English -> Indian Language\n",
    "model_name = \"ai4bharat/indictrans2-en\"\n",
    "\n",
    "# 2️⃣ Load tokenizer & model\n",
    "tokenizer = AutoTokenizer.from_pretrained(model_name, trust_remote_code=True)\n",
    "model = AutoModelForSeq2SeqLM.from_pretrained(model_name, trust_remote_code=True)\n",
    "\n",
    "def translate_to_english(text, src_lang=\"mar\"):  # mar = Marathi\n",
    "    \"\"\"\n",
    "    Translate from an Indian language to English using IndicTrans2.\n",
    "    src_lang codes: 'hin' (Hindi), 'mar' (Marathi), 'ben' (Bengali), etc.\n",
    "    Full list: https://github.com/AI4Bharat/indicTrans2\n",
    "    \"\"\"\n",
    "    # Prepend language token as per IndicTrans2 requirement\n",
    "    input_text = f\"<2eng> {text}\"\n",
    "    inputs = tokenizer(input_text, return_tensors=\"pt\")\n",
    "\n",
    "    output_ids = model.generate(\n",
    "        **inputs,\n",
    "        max_length=256,\n",
    "        num_beams=5,\n",
    "        early_stopping=True\n",
    "    )\n",
    "\n",
    "    translated_text = tokenizer.decode(output_ids[0], skip_special_tokens=True)\n",
    "    return translated_text\n",
    "\n",
    "# Example usage\n",
    "source_text = \"माझं नाव रोहित आहे आणि मी पुण्यात राहतो.\"\n",
    "english_translation = translate_to_english(source_text, src_lang=\"mar\")\n",
    "print(\"English Translation:\", english_translation)\n"
   ]
  },
  {
   "cell_type": "markdown",
   "id": "03f7d886",
   "metadata": {},
   "source": [
    "device = torch.device(\"cuda\" if torch.cuda.is_available() else \"cpu\")\n",
    "model = nemo_asr.models.EncDecCTCModel.restore_from(restore_path=model_path).to(device)\n",
    "model.eval()"
   ]
  },
  {
   "cell_type": "code",
   "execution_count": null,
   "id": "a41235ae",
   "metadata": {},
   "outputs": [],
   "source": [
    "model.cur_decoder = \"ctc\"\n",
    "ctc_text = model.transcribe(['sample_audio_infer_ready.wav'], batch_size=1,logprobs=False, language_id=lang_id)[0]\n",
    "print(ctc_text)"
   ]
  },
  {
   "cell_type": "code",
   "execution_count": null,
   "id": "0bd05a6d",
   "metadata": {},
   "outputs": [],
   "source": []
  },
  {
   "cell_type": "code",
   "execution_count": null,
   "id": "547210f4",
   "metadata": {},
   "outputs": [],
   "source": []
  },
  {
   "cell_type": "code",
   "execution_count": null,
   "id": "3d29590d",
   "metadata": {},
   "outputs": [],
   "source": []
  }
 ],
 "metadata": {
  "kernelspec": {
   "display_name": "Python 3",
   "language": "python",
   "name": "python3"
  },
  "language_info": {
   "name": "python",
   "version": "3.11.13"
  }
 },
 "nbformat": 4,
 "nbformat_minor": 5
}
